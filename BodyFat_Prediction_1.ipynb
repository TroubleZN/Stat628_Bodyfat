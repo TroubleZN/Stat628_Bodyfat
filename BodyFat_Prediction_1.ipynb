{
 "cells": [
  {
   "cell_type": "markdown",
   "metadata": {},
   "source": [
    "## STAT 628 Module 2\n",
    "\n",
    "# Body Fat Prediction\n",
    "Authors (Thurs_Group3): Zheng Ni, Jingpeng Weizhou, Zifeng Wang, Ke Chen"
   ]
  },
  {
   "cell_type": "markdown",
   "metadata": {},
   "source": [
    "## 1. Introduction\n",
    "\n",
    "Body fat percentage is a measure of obesity (total mass of fat divided by total body mass), which is crucial index to describe people's health condition. \n",
    "\n",
    "In fact, many reserachers have proposed  various accurate way to calculate body fat percentage, while these methods always require costly measurement. In hence, we would like to construct a simple but also precise \"rule of thumb\" method to predict body fat percentage of males using available clinical measurements.\n",
    "\n",
    "In this project, we try with multiple linear regression models with different subset of features and finally choose the best model with highest accuracy and robustness.\n"
   ]
  },
  {
   "cell_type": "markdown",
   "metadata": {},
   "source": [
    "## 2. Data Description\n",
    "\n",
    "The dataset contains 252 men with measurements of their percentage of body fat and various body circumference measurements. Overall, the response variable is **BODYFAT** and there are 16 explained variables including **AGE,WEIGHT,HEIGHT**, etc. The following table shows the structure of our dataset."
   ]
  },
  {
   "cell_type": "code",
   "execution_count": 14,
   "metadata": {},
   "outputs": [
    {
     "data": {
      "text/html": [
       "<table>\n",
       "<thead><tr><th scope=col>IDNO</th><th scope=col>BODYFAT</th><th scope=col>DENSITY</th><th scope=col>AGE</th><th scope=col>WEIGHT</th><th scope=col>HEIGHT</th><th scope=col>ADIPOSITY</th><th scope=col>NECK</th><th scope=col>CHEST</th><th scope=col>ABDOMEN</th><th scope=col>HIP</th><th scope=col>THIGH</th><th scope=col>KNEE</th><th scope=col>ANKLE</th><th scope=col>BICEPS</th><th scope=col>FOREARM</th><th scope=col>WRIST</th></tr></thead>\n",
       "<tbody>\n",
       "\t<tr><td>1     </td><td>12.6  </td><td>1.0708</td><td>23    </td><td>154.25</td><td>67.75 </td><td>23.7  </td><td>36.2  </td><td> 93.1 </td><td> 85.2 </td><td> 94.5 </td><td>59.0  </td><td>37.3  </td><td>21.9  </td><td>32.0  </td><td>27.4  </td><td>17.1  </td></tr>\n",
       "\t<tr><td>2     </td><td> 6.9  </td><td>1.0853</td><td>22    </td><td>173.25</td><td>72.25 </td><td>23.4  </td><td>38.5  </td><td> 93.6 </td><td> 83.0 </td><td> 98.7 </td><td>58.7  </td><td>37.3  </td><td>23.4  </td><td>30.5  </td><td>28.9  </td><td>18.2  </td></tr>\n",
       "\t<tr><td>3     </td><td>24.6  </td><td>1.0414</td><td>22    </td><td>154.00</td><td>66.25 </td><td>24.7  </td><td>34.0  </td><td> 95.8 </td><td> 87.9 </td><td> 99.2 </td><td>59.6  </td><td>38.9  </td><td>24.0  </td><td>28.8  </td><td>25.2  </td><td>16.6  </td></tr>\n",
       "\t<tr><td>4     </td><td>10.9  </td><td>1.0751</td><td>26    </td><td>184.75</td><td>72.25 </td><td>24.9  </td><td>37.4  </td><td>101.8 </td><td> 86.4 </td><td>101.2 </td><td>60.1  </td><td>37.3  </td><td>22.8  </td><td>32.4  </td><td>29.4  </td><td>18.2  </td></tr>\n",
       "\t<tr><td>5     </td><td>27.8  </td><td>1.0340</td><td>24    </td><td>184.25</td><td>71.25 </td><td>25.6  </td><td>34.4  </td><td> 97.3 </td><td>100.0 </td><td>101.9 </td><td>63.2  </td><td>42.2  </td><td>24.0  </td><td>32.2  </td><td>27.7  </td><td>17.7  </td></tr>\n",
       "</tbody>\n",
       "</table>\n"
      ],
      "text/latex": [
       "\\begin{tabular}{r|lllllllllllllllll}\n",
       " IDNO & BODYFAT & DENSITY & AGE & WEIGHT & HEIGHT & ADIPOSITY & NECK & CHEST & ABDOMEN & HIP & THIGH & KNEE & ANKLE & BICEPS & FOREARM & WRIST\\\\\n",
       "\\hline\n",
       "\t 1      & 12.6   & 1.0708 & 23     & 154.25 & 67.75  & 23.7   & 36.2   &  93.1  &  85.2  &  94.5  & 59.0   & 37.3   & 21.9   & 32.0   & 27.4   & 17.1  \\\\\n",
       "\t 2      &  6.9   & 1.0853 & 22     & 173.25 & 72.25  & 23.4   & 38.5   &  93.6  &  83.0  &  98.7  & 58.7   & 37.3   & 23.4   & 30.5   & 28.9   & 18.2  \\\\\n",
       "\t 3      & 24.6   & 1.0414 & 22     & 154.00 & 66.25  & 24.7   & 34.0   &  95.8  &  87.9  &  99.2  & 59.6   & 38.9   & 24.0   & 28.8   & 25.2   & 16.6  \\\\\n",
       "\t 4      & 10.9   & 1.0751 & 26     & 184.75 & 72.25  & 24.9   & 37.4   & 101.8  &  86.4  & 101.2  & 60.1   & 37.3   & 22.8   & 32.4   & 29.4   & 18.2  \\\\\n",
       "\t 5      & 27.8   & 1.0340 & 24     & 184.25 & 71.25  & 25.6   & 34.4   &  97.3  & 100.0  & 101.9  & 63.2   & 42.2   & 24.0   & 32.2   & 27.7   & 17.7  \\\\\n",
       "\\end{tabular}\n"
      ],
      "text/markdown": [
       "\n",
       "| IDNO | BODYFAT | DENSITY | AGE | WEIGHT | HEIGHT | ADIPOSITY | NECK | CHEST | ABDOMEN | HIP | THIGH | KNEE | ANKLE | BICEPS | FOREARM | WRIST |\n",
       "|---|---|---|---|---|---|---|---|---|---|---|---|---|---|---|---|---|\n",
       "| 1      | 12.6   | 1.0708 | 23     | 154.25 | 67.75  | 23.7   | 36.2   |  93.1  |  85.2  |  94.5  | 59.0   | 37.3   | 21.9   | 32.0   | 27.4   | 17.1   |\n",
       "| 2      |  6.9   | 1.0853 | 22     | 173.25 | 72.25  | 23.4   | 38.5   |  93.6  |  83.0  |  98.7  | 58.7   | 37.3   | 23.4   | 30.5   | 28.9   | 18.2   |\n",
       "| 3      | 24.6   | 1.0414 | 22     | 154.00 | 66.25  | 24.7   | 34.0   |  95.8  |  87.9  |  99.2  | 59.6   | 38.9   | 24.0   | 28.8   | 25.2   | 16.6   |\n",
       "| 4      | 10.9   | 1.0751 | 26     | 184.75 | 72.25  | 24.9   | 37.4   | 101.8  |  86.4  | 101.2  | 60.1   | 37.3   | 22.8   | 32.4   | 29.4   | 18.2   |\n",
       "| 5      | 27.8   | 1.0340 | 24     | 184.25 | 71.25  | 25.6   | 34.4   |  97.3  | 100.0  | 101.9  | 63.2   | 42.2   | 24.0   | 32.2   | 27.7   | 17.7   |\n",
       "\n"
      ],
      "text/plain": [
       "  IDNO BODYFAT DENSITY AGE WEIGHT HEIGHT ADIPOSITY NECK CHEST ABDOMEN HIP  \n",
       "1 1    12.6    1.0708  23  154.25 67.75  23.7      36.2  93.1  85.2    94.5\n",
       "2 2     6.9    1.0853  22  173.25 72.25  23.4      38.5  93.6  83.0    98.7\n",
       "3 3    24.6    1.0414  22  154.00 66.25  24.7      34.0  95.8  87.9    99.2\n",
       "4 4    10.9    1.0751  26  184.75 72.25  24.9      37.4 101.8  86.4   101.2\n",
       "5 5    27.8    1.0340  24  184.25 71.25  25.6      34.4  97.3 100.0   101.9\n",
       "  THIGH KNEE ANKLE BICEPS FOREARM WRIST\n",
       "1 59.0  37.3 21.9  32.0   27.4    17.1 \n",
       "2 58.7  37.3 23.4  30.5   28.9    18.2 \n",
       "3 59.6  38.9 24.0  28.8   25.2    16.6 \n",
       "4 60.1  37.3 22.8  32.4   29.4    18.2 \n",
       "5 63.2  42.2 24.0  32.2   27.7    17.7 "
      ]
     },
     "metadata": {},
     "output_type": "display_data"
    }
   ],
   "source": [
    "setwd('E:/stat628')\n",
    "data = read.csv('BodyFat.csv',header = TRUE)\n",
    "data[1:5,]"
   ]
  },
  {
   "cell_type": "markdown",
   "metadata": {},
   "source": [
    "Based on previous research, we know that **DENSITY** is almost perfectly correlated with **BODYFAT**, which can also be captured by the formula, **BODYFAT = 495/DENSITY - 450**. Consequently, we cannot view **DENSITY** as a reliable variable."
   ]
  },
  {
   "cell_type": "markdown",
   "metadata": {},
   "source": [
    "The following table are the explained variables we would use in the our model.\n",
    "\n",
    "|**AGE**|**WEIGHT**|**HEIGHT**|**ADIPOSITY**|**NECK**|**CHEST**|**ABDOMEN**|**HIP**|**THIHG**|**KNEE**|**ANKLE**|**BICEPS**|**FOREARM**|**WRIST**|\n",
    "|:-----:|:-----:|:-----:|:-----:|:-----:|:-----:|:-----:|:-----:|:-----:|:-----:|:-----:|:-----:|:-----:|:-----:|\n",
    "|years|lbs|inches|bmi|cm|cm|cm|cm|cm|cm|cm|cm|cm|cm|"
   ]
  },
  {
   "cell_type": "markdown",
   "metadata": {},
   "source": [
    "## 3. Data Preprocessing"
   ]
  },
  {
   "cell_type": "markdown",
   "metadata": {},
   "source": [
    "Before we go into modeling part, we have to check whether there are missing values and outliers in our model. Based on the code below, we find there is no missing values in our dataset, so we don't need to use imputation method. As for the outliers, we would check the boxplot first to see if there are some data beyond 75% quantile.\n",
    "\n",
    "From the boxplots below, we find some people have extremely low height, some have extremely high weight and bodyfat and even one man has 0 bodyfat which are beyond the possible range. So we think these records are outliers."
   ]
  },
  {
   "cell_type": "code",
   "execution_count": 15,
   "metadata": {},
   "outputs": [
    {
     "name": "stdout",
     "output_type": "stream",
     "text": [
      "Number of missing values: 0 \n",
      "Outliers: 42 39 216 41 31 86 159 175 226"
     ]
    },
    {
     "data": {
      "image/png": "[encoded data removed]",
      "text/plain": [
       "Plot with title \"NECK\""
      ]
     },
     "metadata": {},
     "output_type": "display_data"
    }
   ],
   "source": [
    "cat('Number of missing values:',sum(is.na(data)),'\\n')\n",
    "par(mfrow=c(3,3))\n",
    "boxplot(data$HEIGHT,main='HEIGHT');boxplot(data$WEIGHT,main='WEIGHT') \n",
    "boxplot(data$BODYFAT,main='BODYFAT');boxplot(data$ABDOMEN,main='ABDOMEN')\n",
    "boxplot(data$ANKLE,main='ANKLE');boxplot(data$HIP,main='HIP')\n",
    "boxplot(data$FOREARM,main='FOREARM');boxplot(data$WRIST,main='WRIST')\n",
    "boxplot(data$NECK,main='NECK')\n",
    "cat('Outliers:',unique(c(which(data$HEIGHT<40),which(data$WEIGHT>300),which(data$BODYFAT>40),\n",
    "                 which(data$ABDOMEN>120),which(data$ANKLE>30),which(data$HIP>120),which(data$FOREARM>34),\n",
    "                  which(data$FOREARM<22),which(data$WRIST<16),which(data$NECK>50))))"
   ]
  },
  {
   "cell_type": "markdown",
   "metadata": {},
   "source": [
    "After detecting the outliers, we try with the following methods to deal with the outliers.\n",
    "1. Fisrtly, we use some BMI function(**BMI(ADIPOSITY) = WEIGHT/(HEIGHT^2) * 703**) and the relation between BODYFAT and DENSITY proposed by researchers (**BODYFAT = 495/DENSITY - 450**). These functions can help us to compute the value of outliers.\n",
    "2. Secondly, we utilize regression imputation method. We regress the outlier feature on other related features and get the estimate of the real value of the outliers.\n",
    "3. Finally, for those data which are consistent with the function above, they might not due to inaccurate measurement. They may be some extreme values which are far from other data, we mainly choose to drop these records in order to get more precise analysis."
   ]
  },
  {
   "cell_type": "code",
   "execution_count": 16,
   "metadata": {},
   "outputs": [],
   "source": [
    "# BY BMI FUNCTION\n",
    "data[,'HEIGHT'][42] = sqrt(205*703/29.9)\n",
    "data[,'ADIPOSITY'][221] = 153.25/70.50^2*703\n",
    "# Regression IMPUTATION\n",
    "data[,'WRIST'][226] = 6.5+0.26*data[,'ANKLE'][226]+0.18*data[,'KNEE'][226]+0.02*data[,'AGE'][226] # lm(WRIST~ANKLE+KNEE+AGE)\n",
    "data[,'ANKLE'][31] = 3.1+0.56*data[,'WRIST'][31]+0.28*data[,'KNEE'][31]-0.02*data[,'AGE'][31] # lm(ANKLE~WRIST+KNEE+AGE))\n",
    "data[,'ANKLE'][86] = 3.1+0.56*data[,'WRIST'][86]+0.28*data[,'KNEE'][86]-0.02*data[,'AGE'][86] # lm(ANKLE~WRIST+KNEE+AGE)\n",
    "# DROP OUTLIERS\n",
    "data = data[-c(39,41,216),]"
   ]
  },
  {
   "cell_type": "markdown",
   "metadata": {},
   "source": [
    "## 4. StepWise by AIC"
   ]
  },
  {
   "cell_type": "markdown",
   "metadata": {},
   "source": [
    "Now, we can use the cleaned data to do regression and select variable we need. We use AIC as the criterion to do forward and backward regression.For forward regression:"
   ]
  },
  {
   "cell_type": "code",
   "execution_count": 46,
   "metadata": {},
   "outputs": [
    {
     "name": "stdout",
     "output_type": "stream",
     "text": [
      "Start:  AIC=695.84\n",
      "Y ~ as.matrix(X)\n",
      "\n"
     ]
    },
    {
     "data": {
      "text/plain": [
       "\n",
       "Call:\n",
       "lm(formula = Y ~ as.matrix(X))\n",
       "\n",
       "Residuals:\n",
       "   Min     1Q Median     3Q    Max \n",
       "-9.478 -2.816 -0.004  2.705  9.108 \n",
       "\n",
       "Coefficients:\n",
       "                       Estimate Std. Error t value Pr(>|t|)    \n",
       "(Intercept)           -65.36920   45.59106  -1.434   0.1530    \n",
       "as.matrix(X)AGE         0.06597    0.03004   2.196   0.0291 *  \n",
       "as.matrix(X)WEIGHT     -0.20120    0.12767  -1.576   0.1164    \n",
       "as.matrix(X)HEIGHT      0.80488    0.61692   1.305   0.1933    \n",
       "as.matrix(X)ADIPOSITY   1.53635    0.87347   1.759   0.0799 .  \n",
       "as.matrix(X)NECK       -0.41704    0.21745  -1.918   0.0563 .  \n",
       "as.matrix(X)CHEST      -0.13462    0.10179  -1.323   0.1873    \n",
       "as.matrix(X)ABDOMEN     0.79796    0.08518   9.368   <2e-16 ***\n",
       "as.matrix(X)HIP        -0.16966    0.13877  -1.223   0.2227    \n",
       "as.matrix(X)THIGH       0.22039    0.13710   1.608   0.1093    \n",
       "as.matrix(X)KNEE       -0.09224    0.24962  -0.370   0.7121    \n",
       "as.matrix(X)ANKLE      -0.08750    0.33296  -0.263   0.7930    \n",
       "as.matrix(X)BICEPS      0.09700    0.16025   0.605   0.5456    \n",
       "as.matrix(X)FOREARM     0.22978    0.19142   1.200   0.2312    \n",
       "as.matrix(X)WRIST      -1.25874    0.50577  -2.489   0.0135 *  \n",
       "---\n",
       "Signif. codes:  0 '***' 0.001 '**' 0.01 '*' 0.05 '.' 0.1 ' ' 1\n",
       "\n",
       "Residual standard error: 3.928 on 234 degrees of freedom\n",
       "Multiple R-squared:  0.7414,\tAdjusted R-squared:  0.7259 \n",
       "F-statistic: 47.92 on 14 and 234 DF,  p-value: < 2.2e-16\n"
      ]
     },
     "metadata": {},
     "output_type": "display_data"
    }
   ],
   "source": [
    "library('MASS')\n",
    "X <- data[,4:17] \n",
    "Y <- data$BODYFAT\n",
    "\n",
    "full_model <- lm(Y~as.matrix(X))\n",
    "forward_model <- stepAIC(full_model,direction = 'forward')\n",
    "summary.lm(forward_model)"
   ]
  },
  {
   "cell_type": "markdown",
   "metadata": {},
   "source": [
    "For backward regerssion"
   ]
  },
  {
   "cell_type": "code",
   "execution_count": 53,
   "metadata": {},
   "outputs": [
    {
     "name": "stdout",
     "output_type": "stream",
     "text": [
      "Start:  AIC=695.84\n",
      "Y ~ as.matrix(X)\n",
      "\n",
      "               Df Sum of Sq     RSS     AIC\n",
      "<none>                       3610.1  695.84\n",
      "- as.matrix(X) 14     10351 13960.9 1004.62\n"
     ]
    },
    {
     "data": {
      "text/plain": [
       "\n",
       "Call:\n",
       "lm(formula = Y ~ as.matrix(X))\n",
       "\n",
       "Residuals:\n",
       "   Min     1Q Median     3Q    Max \n",
       "-9.478 -2.816 -0.004  2.705  9.108 \n",
       "\n",
       "Coefficients:\n",
       "                       Estimate Std. Error t value Pr(>|t|)    \n",
       "(Intercept)           -65.36920   45.59106  -1.434   0.1530    \n",
       "as.matrix(X)AGE         0.06597    0.03004   2.196   0.0291 *  \n",
       "as.matrix(X)WEIGHT     -0.20120    0.12767  -1.576   0.1164    \n",
       "as.matrix(X)HEIGHT      0.80488    0.61692   1.305   0.1933    \n",
       "as.matrix(X)ADIPOSITY   1.53635    0.87347   1.759   0.0799 .  \n",
       "as.matrix(X)NECK       -0.41704    0.21745  -1.918   0.0563 .  \n",
       "as.matrix(X)CHEST      -0.13462    0.10179  -1.323   0.1873    \n",
       "as.matrix(X)ABDOMEN     0.79796    0.08518   9.368   <2e-16 ***\n",
       "as.matrix(X)HIP        -0.16966    0.13877  -1.223   0.2227    \n",
       "as.matrix(X)THIGH       0.22039    0.13710   1.608   0.1093    \n",
       "as.matrix(X)KNEE       -0.09224    0.24962  -0.370   0.7121    \n",
       "as.matrix(X)ANKLE      -0.08750    0.33296  -0.263   0.7930    \n",
       "as.matrix(X)BICEPS      0.09700    0.16025   0.605   0.5456    \n",
       "as.matrix(X)FOREARM     0.22978    0.19142   1.200   0.2312    \n",
       "as.matrix(X)WRIST      -1.25874    0.50577  -2.489   0.0135 *  \n",
       "---\n",
       "Signif. codes:  0 '***' 0.001 '**' 0.01 '*' 0.05 '.' 0.1 ' ' 1\n",
       "\n",
       "Residual standard error: 3.928 on 234 degrees of freedom\n",
       "Multiple R-squared:  0.7414,\tAdjusted R-squared:  0.7259 \n",
       "F-statistic: 47.92 on 14 and 234 DF,  p-value: < 2.2e-16\n"
      ]
     },
     "metadata": {},
     "output_type": "display_data"
    }
   ],
   "source": [
    "backward_model <- stepAIC(full_model,direction = 'backward')\n",
    "summary.lm(backward_model)"
   ]
  },
  {
   "cell_type": "markdown",
   "metadata": {},
   "source": [
    "## Compare model"
   ]
  },
  {
   "cell_type": "markdown",
   "metadata": {},
   "source": [
    "For these two stepwise regression above, we can see the results are same: variables ABDOMEN is the most significant and the main variable we should select. Then, we consider variable WRIST and AGE. We can developt two models that one caontains ABDMEN and WRIST while another one contains ABDOMEN and AGE. Comparing the R- squared value, we can decide add which one variable to model."
   ]
  },
  {
   "cell_type": "code",
   "execution_count": 52,
   "metadata": {},
   "outputs": [
    {
     "data": {
      "text/plain": [
       "\n",
       "Call:\n",
       "lm(formula = Y ~ X$ABDOMEN + X$WRIST)\n",
       "\n",
       "Residuals:\n",
       "    Min      1Q  Median      3Q     Max \n",
       "-9.4007 -2.8544 -0.1714  2.9384 10.3270 \n",
       "\n",
       "Coefficients:\n",
       "             Estimate Std. Error t value Pr(>|t|)    \n",
       "(Intercept) -12.25598    5.44866  -2.249   0.0254 *  \n",
       "X$ABDOMEN     0.72322    0.03233  22.371  < 2e-16 ***\n",
       "X$WRIST      -1.95556    0.36091  -5.418 1.43e-07 ***\n",
       "---\n",
       "Signif. codes:  0 '***' 0.001 '**' 0.01 '*' 0.05 '.' 0.1 ' ' 1\n",
       "\n",
       "Residual standard error: 4.105 on 246 degrees of freedom\n",
       "Multiple R-squared:  0.7031,\tAdjusted R-squared:  0.7007 \n",
       "F-statistic: 291.3 on 2 and 246 DF,  p-value: < 2.2e-16\n"
      ]
     },
     "metadata": {},
     "output_type": "display_data"
    },
    {
     "data": {
      "text/plain": [
       "\n",
       "Call:\n",
       "lm(formula = Y ~ X$ABDOMEN + X$AGE)\n",
       "\n",
       "Residuals:\n",
       "     Min       1Q   Median       3Q      Max \n",
       "-10.0668  -3.2903  -0.0802   3.1304  11.9324 \n",
       "\n",
       "Coefficients:\n",
       "             Estimate Std. Error t value Pr(>|t|)    \n",
       "(Intercept) -39.53316    2.58193 -15.311  < 2e-16 ***\n",
       "X$ABDOMEN     0.60433    0.02850  21.202  < 2e-16 ***\n",
       "X$AGE         0.05805    0.02215   2.621  0.00931 ** \n",
       "---\n",
       "Signif. codes:  0 '***' 0.001 '**' 0.01 '*' 0.05 '.' 0.1 ' ' 1\n",
       "\n",
       "Residual standard error: 4.284 on 246 degrees of freedom\n",
       "Multiple R-squared:  0.6767,\tAdjusted R-squared:  0.6741 \n",
       "F-statistic: 257.4 on 2 and 246 DF,  p-value: < 2.2e-16\n"
      ]
     },
     "metadata": {},
     "output_type": "display_data"
    }
   ],
   "source": [
    "select_model_1 <- lm(Y ~ X$ABDOMEN + X$WRIST)\n",
    "select_model_2 <- lm(Y ~ X$ABDOMEN + X$AGE)\n",
    "summary(select_model_1)\n",
    "summary(select_model_2)"
   ]
  },
  {
   "cell_type": "markdown",
   "metadata": {},
   "source": [
    "According to the summary above, we can see that model 1 with variable ABDOMEN and WRIST is much better and model 1 is our final model. "
   ]
  },
  {
   "cell_type": "code",
   "execution_count": null,
   "metadata": {},
   "outputs": [],
   "source": []
  }
 ],
 "metadata": {
  "kernelspec": {
   "display_name": "R",
   "language": "R",
   "name": "ir"
  },
  "language_info": {
   "codemirror_mode": "r",
   "file_extension": ".r",
   "mimetype": "text/x-r-source",
   "name": "R",
   "pygments_lexer": "r",
   "version": "3.6.1"
  }
 },
 "nbformat": 4,
 "nbformat_minor": 2
}
