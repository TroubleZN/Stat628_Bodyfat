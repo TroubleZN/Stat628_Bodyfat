{
 "cells": [
  {
   "cell_type": "markdown",
   "metadata": {},
   "source": [
    "## STAT 628 Module 2\n",
    "\n",
    "# Body Fat Prediction\n",
    "Authors (Thurs_Group3): Zheng Ni, Jingpeng Weizhou, Zifeng Wang, Ke Chen"
   ]
  },
  {
   "cell_type": "markdown",
   "metadata": {},
   "source": [
    "## 1. Introduction\n",
    "\n",
    "Body fat percentage is a measure of obesity (total mass of fat divided by total body mass), which is crucial index to describe people's health condition. \n",
    "\n",
    "In fact, many reserachers have proposed  various accurate way to calculate body fat percentage, while these methods always require costly measurement. In hence, we would like to construct a simple but also precise \"rule of thumb\" method to predict body fat percentage of males using available clinical measurements.\n",
    "\n",
    "In this project, we try with multiple linear regression models with different subset of features and finally choose the best model with highest accuracy and robustness.\n"
   ]
  },
  {
   "cell_type": "markdown",
   "metadata": {},
   "source": [
    "## 2. Data Description\n",
    "\n",
    "The dataset contains 252 men with measurements of their percentage of body fat and various body circumference measurements. Overall, the response variable is **BODYFAT** and there are 16 explained variables including **AGE,WEIGHT,HEIGHT**, etc. The following table shows the structure of our dataset."
   ]
  },
  {
   "cell_type": "code",
   "execution_count": 2,
   "metadata": {},
   "outputs": [
    {
     "data": {
      "text/html": [
       "<table>\n",
       "<thead><tr><th scope=col>IDNO</th><th scope=col>BODYFAT</th><th scope=col>DENSITY</th><th scope=col>AGE</th><th scope=col>WEIGHT</th><th scope=col>HEIGHT</th><th scope=col>ADIPOSITY</th><th scope=col>NECK</th><th scope=col>CHEST</th><th scope=col>ABDOMEN</th><th scope=col>HIP</th><th scope=col>THIGH</th><th scope=col>KNEE</th><th scope=col>ANKLE</th><th scope=col>BICEPS</th><th scope=col>FOREARM</th><th scope=col>WRIST</th></tr></thead>\n",
       "<tbody>\n",
       "\t<tr><td>1     </td><td>12.6  </td><td>1.0708</td><td>23    </td><td>154.25</td><td>67.75 </td><td>23.7  </td><td>36.2  </td><td> 93.1 </td><td> 85.2 </td><td> 94.5 </td><td>59.0  </td><td>37.3  </td><td>21.9  </td><td>32.0  </td><td>27.4  </td><td>17.1  </td></tr>\n",
       "\t<tr><td>2     </td><td> 6.9  </td><td>1.0853</td><td>22    </td><td>173.25</td><td>72.25 </td><td>23.4  </td><td>38.5  </td><td> 93.6 </td><td> 83.0 </td><td> 98.7 </td><td>58.7  </td><td>37.3  </td><td>23.4  </td><td>30.5  </td><td>28.9  </td><td>18.2  </td></tr>\n",
       "\t<tr><td>3     </td><td>24.6  </td><td>1.0414</td><td>22    </td><td>154.00</td><td>66.25 </td><td>24.7  </td><td>34.0  </td><td> 95.8 </td><td> 87.9 </td><td> 99.2 </td><td>59.6  </td><td>38.9  </td><td>24.0  </td><td>28.8  </td><td>25.2  </td><td>16.6  </td></tr>\n",
       "\t<tr><td>4     </td><td>10.9  </td><td>1.0751</td><td>26    </td><td>184.75</td><td>72.25 </td><td>24.9  </td><td>37.4  </td><td>101.8 </td><td> 86.4 </td><td>101.2 </td><td>60.1  </td><td>37.3  </td><td>22.8  </td><td>32.4  </td><td>29.4  </td><td>18.2  </td></tr>\n",
       "\t<tr><td>5     </td><td>27.8  </td><td>1.0340</td><td>24    </td><td>184.25</td><td>71.25 </td><td>25.6  </td><td>34.4  </td><td> 97.3 </td><td>100.0 </td><td>101.9 </td><td>63.2  </td><td>42.2  </td><td>24.0  </td><td>32.2  </td><td>27.7  </td><td>17.7  </td></tr>\n",
       "</tbody>\n",
       "</table>\n"
      ],
      "text/latex": [
       "\\begin{tabular}{r|lllllllllllllllll}\n",
       " IDNO & BODYFAT & DENSITY & AGE & WEIGHT & HEIGHT & ADIPOSITY & NECK & CHEST & ABDOMEN & HIP & THIGH & KNEE & ANKLE & BICEPS & FOREARM & WRIST\\\\\n",
       "\\hline\n",
       "\t 1      & 12.6   & 1.0708 & 23     & 154.25 & 67.75  & 23.7   & 36.2   &  93.1  &  85.2  &  94.5  & 59.0   & 37.3   & 21.9   & 32.0   & 27.4   & 17.1  \\\\\n",
       "\t 2      &  6.9   & 1.0853 & 22     & 173.25 & 72.25  & 23.4   & 38.5   &  93.6  &  83.0  &  98.7  & 58.7   & 37.3   & 23.4   & 30.5   & 28.9   & 18.2  \\\\\n",
       "\t 3      & 24.6   & 1.0414 & 22     & 154.00 & 66.25  & 24.7   & 34.0   &  95.8  &  87.9  &  99.2  & 59.6   & 38.9   & 24.0   & 28.8   & 25.2   & 16.6  \\\\\n",
       "\t 4      & 10.9   & 1.0751 & 26     & 184.75 & 72.25  & 24.9   & 37.4   & 101.8  &  86.4  & 101.2  & 60.1   & 37.3   & 22.8   & 32.4   & 29.4   & 18.2  \\\\\n",
       "\t 5      & 27.8   & 1.0340 & 24     & 184.25 & 71.25  & 25.6   & 34.4   &  97.3  & 100.0  & 101.9  & 63.2   & 42.2   & 24.0   & 32.2   & 27.7   & 17.7  \\\\\n",
       "\\end{tabular}\n"
      ],
      "text/markdown": [
       "\n",
       "| IDNO | BODYFAT | DENSITY | AGE | WEIGHT | HEIGHT | ADIPOSITY | NECK | CHEST | ABDOMEN | HIP | THIGH | KNEE | ANKLE | BICEPS | FOREARM | WRIST |\n",
       "|---|---|---|---|---|---|---|---|---|---|---|---|---|---|---|---|---|\n",
       "| 1      | 12.6   | 1.0708 | 23     | 154.25 | 67.75  | 23.7   | 36.2   |  93.1  |  85.2  |  94.5  | 59.0   | 37.3   | 21.9   | 32.0   | 27.4   | 17.1   |\n",
       "| 2      |  6.9   | 1.0853 | 22     | 173.25 | 72.25  | 23.4   | 38.5   |  93.6  |  83.0  |  98.7  | 58.7   | 37.3   | 23.4   | 30.5   | 28.9   | 18.2   |\n",
       "| 3      | 24.6   | 1.0414 | 22     | 154.00 | 66.25  | 24.7   | 34.0   |  95.8  |  87.9  |  99.2  | 59.6   | 38.9   | 24.0   | 28.8   | 25.2   | 16.6   |\n",
       "| 4      | 10.9   | 1.0751 | 26     | 184.75 | 72.25  | 24.9   | 37.4   | 101.8  |  86.4  | 101.2  | 60.1   | 37.3   | 22.8   | 32.4   | 29.4   | 18.2   |\n",
       "| 5      | 27.8   | 1.0340 | 24     | 184.25 | 71.25  | 25.6   | 34.4   |  97.3  | 100.0  | 101.9  | 63.2   | 42.2   | 24.0   | 32.2   | 27.7   | 17.7   |\n",
       "\n"
      ],
      "text/plain": [
       "  IDNO BODYFAT DENSITY AGE WEIGHT HEIGHT ADIPOSITY NECK CHEST ABDOMEN HIP  \n",
       "1 1    12.6    1.0708  23  154.25 67.75  23.7      36.2  93.1  85.2    94.5\n",
       "2 2     6.9    1.0853  22  173.25 72.25  23.4      38.5  93.6  83.0    98.7\n",
       "3 3    24.6    1.0414  22  154.00 66.25  24.7      34.0  95.8  87.9    99.2\n",
       "4 4    10.9    1.0751  26  184.75 72.25  24.9      37.4 101.8  86.4   101.2\n",
       "5 5    27.8    1.0340  24  184.25 71.25  25.6      34.4  97.3 100.0   101.9\n",
       "  THIGH KNEE ANKLE BICEPS FOREARM WRIST\n",
       "1 59.0  37.3 21.9  32.0   27.4    17.1 \n",
       "2 58.7  37.3 23.4  30.5   28.9    18.2 \n",
       "3 59.6  38.9 24.0  28.8   25.2    16.6 \n",
       "4 60.1  37.3 22.8  32.4   29.4    18.2 \n",
       "5 63.2  42.2 24.0  32.2   27.7    17.7 "
      ]
     },
     "metadata": {},
     "output_type": "display_data"
    }
   ],
   "source": [
    "setwd('E:/stat628')\n",
    "data = read.csv('BodyFat.csv',header = TRUE)\n",
    "data[1:5,]"
   ]
  },
  {
   "cell_type": "markdown",
   "metadata": {},
   "source": [
    "Based on previous research, we know that **DENSITY** is almost perfectly correlated with **BODYFAT**, which can also be captured by the formula, **BODYFAT = 495/DENSITY - 450**. Consequently, we cannot view **DENSITY** as a reliable variable."
   ]
  },
  {
   "cell_type": "markdown",
   "metadata": {},
   "source": [
    "The following table are the explained variables we would use in the our model.\n",
    "\n",
    "|**AGE**|**WEIGHT**|**HEIGHT**|**ADIPOSITY**|**NECK**|**CHEST**|**ABDOMEN**|**HIP**|**THIHG**|**KNEE**|**ANKLE**|**BICEPS**|**FOREARM**|**WRIST**|\n",
    "|:-----:|:-----:|:-----:|:-----:|:-----:|:-----:|:-----:|:-----:|:-----:|:-----:|:-----:|:-----:|:-----:|:-----:|\n",
    "|years|lbs|inches|bmi|cm|cm|cm|cm|cm|cm|cm|cm|cm|cm|"
   ]
  },
  {
   "cell_type": "markdown",
   "metadata": {},
   "source": [
    "## 3. Data Preprocessing"
   ]
  },
  {
   "cell_type": "markdown",
   "metadata": {},
   "source": [
    "Before we go into modeling part, we have to check whether there are missing values and outliers in our model. Based on the code below, we find there is no missing values in our dataset, so we don't need to use imputation method. As for the outliers, we would check the boxplot first to see if there are some data beyond 75% quantile.\n",
    "\n",
    "From the boxplots below, we find some people have extremely low height, some have extremely high weight and bodyfat and even one man has 0 bodyfat which are beyond the possible range. So we think these records are outliers."
   ]
  },
  {
   "cell_type": "code",
   "execution_count": 3,
   "metadata": {},
   "outputs": [
    {
     "name": "stdout",
     "output_type": "stream",
     "text": [
      "Number of missing values: 0 \n",
      "Outliers: 42 39 216 41 31 86 159 175 226"
     ]
    },
    {
     "data": {
      "image/png": "[encoded data removed]",
      "text/plain": [
       "Plot with title \"NECK\""
      ]
     },
     "metadata": {},
     "output_type": "display_data"
    }
   ],
   "source": [
    "cat('Number of missing values:',sum(is.na(data)),'\\n')\n",
    "par(mfrow=c(3,3))\n",
    "boxplot(data$HEIGHT,main='HEIGHT');boxplot(data$WEIGHT,main='WEIGHT') \n",
    "boxplot(data$BODYFAT,main='BODYFAT');boxplot(data$ABDOMEN,main='ABDOMEN')\n",
    "boxplot(data$ANKLE,main='ANKLE');boxplot(data$HIP,main='HIP')\n",
    "boxplot(data$FOREARM,main='FOREARM');boxplot(data$WRIST,main='WRIST')\n",
    "boxplot(data$NECK,main='NECK')\n",
    "cat('Outliers:',unique(c(which(data$HEIGHT<40),which(data$WEIGHT>300),which(data$BODYFAT>40),\n",
    "                 which(data$ABDOMEN>120),which(data$ANKLE>30),which(data$HIP>120),which(data$FOREARM>34),\n",
    "                  which(data$FOREARM<22),which(data$WRIST<16),which(data$NECK>50))))"
   ]
  },
  {
   "cell_type": "markdown",
   "metadata": {},
   "source": [
    "After detecting the outliers, we try with the following methods to deal with the outliers.\n",
    "1. Fisrtly, we use some BMI function(**BMI(ADIPOSITY) = WEIGHT/(HEIGHT^2) * 703**) and the relation between BODYFAT and DENSITY proposed by researchers (**BODYFAT = 495/DENSITY - 450**). These functions can help us to compute the value of outliers.\n",
    "2. Secondly, we utilize regression imputation method. We regress the outlier feature on other related features and get the estimate of the real value of the outliers.\n",
    "3. Finally, for those data which are consistent with the function above, they might not due to inaccurate measurement. They may be some extreme values which are far from other data, we mainly choose to drop these records in order to get more precise analysis."
   ]
  },
  {
   "cell_type": "code",
   "execution_count": 4,
   "metadata": {},
   "outputs": [],
   "source": [
    "# BY BMI FUNCTION\n",
    "data[,'HEIGHT'][42] = sqrt(205*703/29.9)\n",
    "data[,'ADIPOSITY'][221] = 153.25/70.50^2*703\n",
    "# Regression IMPUTATION\n",
    "data[,'WRIST'][226] = 6.5+0.26*data[,'ANKLE'][226]+0.18*data[,'KNEE'][226]+0.02*data[,'AGE'][226] # lm(WRIST~ANKLE+KNEE+AGE)\n",
    "data[,'ANKLE'][31] = 3.1+0.56*data[,'WRIST'][31]+0.28*data[,'KNEE'][31]-0.02*data[,'AGE'][31] # lm(ANKLE~WRIST+KNEE+AGE))\n",
    "data[,'ANKLE'][86] = 3.1+0.56*data[,'WRIST'][86]+0.28*data[,'KNEE'][86]-0.02*data[,'AGE'][86] # lm(ANKLE~WRIST+KNEE+AGE)\n",
    "# DROP OUTLIERS\n",
    "data = data[-c(39,41,216),]"
   ]
  },
  {
   "cell_type": "markdown",
   "metadata": {},
   "source": [
    "## 4. StepWise by AIC"
   ]
  },
  {
   "cell_type": "markdown",
   "metadata": {},
   "source": [
    "Now, we can use the cleaned data to do regression and select variable we need. We use AIC as the criterion to do forward and backward regression.For forward regression:"
   ]
  },
  {
   "cell_type": "code",
   "execution_count": 6,
   "metadata": {},
   "outputs": [
    {
     "name": "stdout",
     "output_type": "stream",
     "text": [
      "Start:  AIC=1004.62\n",
      "Y ~ 1\n",
      "\n",
      "            Df Sum of Sq     RSS     AIC\n",
      "+ ABDOMEN    1    9321.2  4639.8  732.32\n",
      "+ ADIPOSITY  1    7566.9  6394.1  812.17\n",
      "+ CHEST      1    6602.7  7358.3  847.15\n",
      "+ HIP        1    5455.4  8505.5  883.22\n",
      "+ WEIGHT     1    5182.6  8778.3  891.08\n",
      "+ THIGH      1    4271.8  9689.1  915.67\n",
      "+ KNEE       1    3776.9 10184.0  928.07\n",
      "+ BICEPS     1    3168.9 10792.1  942.51\n",
      "+ NECK       1    3043.4 10917.5  945.39\n",
      "+ FOREARM    1    1817.0 12143.9  971.90\n",
      "+ WRIST      1    1382.9 12578.1  980.64\n",
      "+ AGE        1    1198.9 12762.0  984.26\n",
      "+ ANKLE      1    1146.3 12814.7  985.28\n",
      "<none>                   13960.9 1004.62\n",
      "+ HEIGHT     1       0.7 13960.3 1006.60\n",
      "\n",
      "Step:  AIC=732.32\n",
      "Y ~ ABDOMEN\n",
      "\n",
      "            Df Sum of Sq    RSS    AIC\n",
      "+ WEIGHT     1    594.93 4044.8 700.15\n",
      "+ HEIGHT     1    495.95 4143.8 706.17\n",
      "+ WRIST      1    494.69 4145.1 706.24\n",
      "+ NECK       1    390.38 4249.4 712.43\n",
      "+ ANKLE      1    312.99 4326.8 716.93\n",
      "+ KNEE       1    249.20 4390.6 720.57\n",
      "+ HIP        1    242.28 4397.5 720.96\n",
      "+ CHEST      1    193.51 4446.2 723.71\n",
      "+ AGE        1    126.06 4513.7 727.46\n",
      "+ BICEPS     1     90.16 4549.6 729.43\n",
      "+ FOREARM    1     89.00 4550.8 729.49\n",
      "+ THIGH      1     68.22 4571.5 730.63\n",
      "<none>                   4639.8 732.32\n",
      "+ ADIPOSITY  1      2.41 4637.3 734.19\n",
      "\n",
      "Step:  AIC=700.15\n",
      "Y ~ ABDOMEN + WEIGHT\n",
      "\n",
      "            Df Sum of Sq    RSS    AIC\n",
      "+ WRIST      1   143.838 3901.0 693.13\n",
      "+ THIGH      1    76.039 3968.8 697.42\n",
      "+ NECK       1    70.721 3974.1 697.76\n",
      "+ ADIPOSITY  1    67.434 3977.4 697.96\n",
      "+ HEIGHT     1    42.358 4002.5 699.53\n",
      "<none>                   4044.8 700.15\n",
      "+ BICEPS     1    30.829 4014.0 700.24\n",
      "+ FOREARM    1    16.216 4028.6 701.15\n",
      "+ HIP        1     8.537 4036.3 701.62\n",
      "+ CHEST      1     7.092 4037.7 701.71\n",
      "+ ANKLE      1     6.382 4038.5 701.75\n",
      "+ AGE        1     0.672 4044.2 702.11\n",
      "+ KNEE       1     0.074 4044.8 702.14\n",
      "\n",
      "Step:  AIC=693.13\n",
      "Y ~ ABDOMEN + WEIGHT + WRIST\n",
      "\n",
      "            Df Sum of Sq    RSS    AIC\n",
      "+ ADIPOSITY  1    63.154 3837.8 691.07\n",
      "+ BICEPS     1    43.740 3857.3 692.32\n",
      "+ HEIGHT     1    43.028 3858.0 692.37\n",
      "+ THIGH      1    36.493 3864.5 692.79\n",
      "+ FOREARM    1    34.174 3866.8 692.94\n",
      "<none>                   3901.0 693.13\n",
      "+ AGE        1    28.765 3872.2 693.29\n",
      "+ NECK       1    18.272 3882.7 693.96\n",
      "+ CHEST      1     3.307 3897.7 694.92\n",
      "+ KNEE       1     2.037 3899.0 695.00\n",
      "+ ANKLE      1     0.200 3900.8 695.12\n",
      "+ HIP        1     0.000 3901.0 695.13\n",
      "\n",
      "Step:  AIC=691.07\n",
      "Y ~ ABDOMEN + WEIGHT + WRIST + ADIPOSITY\n",
      "\n",
      "          Df Sum of Sq    RSS    AIC\n",
      "+ AGE      1    34.916 3802.9 690.79\n",
      "+ NECK     1    32.005 3805.8 690.98\n",
      "<none>                 3837.8 691.07\n",
      "+ CHEST    1    27.246 3810.6 691.29\n",
      "+ HEIGHT   1    23.200 3814.6 691.56\n",
      "+ BICEPS   1    19.138 3818.7 691.82\n",
      "+ FOREARM  1    16.991 3820.9 691.96\n",
      "+ THIGH    1    15.268 3822.6 692.08\n",
      "+ KNEE     1     3.484 3834.4 692.84\n",
      "+ HIP      1     1.045 3836.8 693.00\n",
      "+ ANKLE    1     0.038 3837.8 693.07\n",
      "\n",
      "Step:  AIC=690.79\n",
      "Y ~ ABDOMEN + WEIGHT + WRIST + ADIPOSITY + AGE\n",
      "\n",
      "          Df Sum of Sq    RSS    AIC\n",
      "+ THIGH    1    45.286 3757.6 689.81\n",
      "+ CHEST    1    43.501 3759.4 689.93\n",
      "+ NECK     1    37.321 3765.6 690.34\n",
      "<none>                 3802.9 690.79\n",
      "+ HEIGHT   1    21.042 3781.9 691.41\n",
      "+ BICEPS   1    20.782 3782.1 691.43\n",
      "+ FOREARM  1    20.603 3782.3 691.44\n",
      "+ KNEE     1     2.326 3800.6 692.64\n",
      "+ ANKLE    1     1.768 3801.2 692.68\n",
      "+ HIP      1     0.065 3802.9 692.79\n",
      "\n",
      "Step:  AIC=689.81\n",
      "Y ~ ABDOMEN + WEIGHT + WRIST + ADIPOSITY + AGE + THIGH\n",
      "\n",
      "          Df Sum of Sq    RSS    AIC\n",
      "+ NECK     1    35.018 3722.6 689.48\n",
      "<none>                 3757.6 689.81\n",
      "+ HEIGHT   1    27.538 3730.1 689.98\n",
      "+ FOREARM  1    21.526 3736.1 690.38\n",
      "+ CHEST    1    20.056 3737.6 690.48\n",
      "+ BICEPS   1    11.623 3746.0 691.04\n",
      "+ HIP      1     8.845 3748.8 691.22\n",
      "+ KNEE     1     0.533 3757.1 691.77\n",
      "+ ANKLE    1     0.223 3757.4 691.79\n",
      "\n",
      "Step:  AIC=689.48\n",
      "Y ~ ABDOMEN + WEIGHT + WRIST + ADIPOSITY + AGE + THIGH + NECK\n",
      "\n",
      "          Df Sum of Sq    RSS    AIC\n",
      "+ FOREARM  1    36.754 3685.9 689.01\n",
      "<none>                 3722.6 689.48\n",
      "+ HEIGHT   1    21.734 3700.9 690.02\n",
      "+ HIP      1    20.598 3702.0 690.10\n",
      "+ BICEPS   1    19.460 3703.2 690.17\n",
      "+ CHEST    1    15.638 3707.0 690.43\n",
      "+ KNEE     1     3.313 3719.3 691.26\n",
      "+ ANKLE    1     0.402 3722.2 691.45\n",
      "\n",
      "Step:  AIC=689.01\n",
      "Y ~ ABDOMEN + WEIGHT + WRIST + ADIPOSITY + AGE + THIGH + NECK + \n",
      "    FOREARM\n",
      "\n",
      "         Df Sum of Sq    RSS    AIC\n",
      "<none>                3685.9 689.01\n",
      "+ HEIGHT  1   19.7477 3666.1 689.67\n",
      "+ HIP     1   17.0812 3668.8 689.85\n",
      "+ CHEST   1   15.9112 3670.0 689.93\n",
      "+ BICEPS  1    7.9526 3677.9 690.47\n",
      "+ KNEE    1    3.7350 3682.1 690.75\n",
      "+ ANKLE   1    1.0157 3684.9 690.94\n"
     ]
    },
    {
     "data": {
      "text/plain": [
       "\n",
       "Call:\n",
       "lm(formula = Y ~ ABDOMEN + WEIGHT + WRIST + ADIPOSITY + AGE + \n",
       "    THIGH + NECK + FOREARM, data = X)\n",
       "\n",
       "Residuals:\n",
       "    Min      1Q  Median      3Q     Max \n",
       "-9.7428 -2.8534 -0.1652  2.7724  9.0224 \n",
       "\n",
       "Coefficients:\n",
       "             Estimate Std. Error t value Pr(>|t|)    \n",
       "(Intercept) -26.53262    8.70380  -3.048  0.00256 ** \n",
       "ABDOMEN       0.75425    0.07946   9.492  < 2e-16 ***\n",
       "WEIGHT       -0.09199    0.03243  -2.836  0.00495 ** \n",
       "WRIST        -1.31379    0.46940  -2.799  0.00555 ** \n",
       "ADIPOSITY     0.31972    0.21985   1.454  0.14717    \n",
       "AGE           0.06481    0.02868   2.260  0.02473 *  \n",
       "THIGH         0.18792    0.11142   1.687  0.09299 .  \n",
       "NECK         -0.37182    0.20556  -1.809  0.07174 .  \n",
       "FOREARM       0.28155    0.18200   1.547  0.12318    \n",
       "---\n",
       "Signif. codes:  0 '***' 0.001 '**' 0.01 '*' 0.05 '.' 0.1 ' ' 1\n",
       "\n",
       "Residual standard error: 3.919 on 240 degrees of freedom\n",
       "Multiple R-squared:  0.736,\tAdjusted R-squared:  0.7272 \n",
       "F-statistic: 83.63 on 8 and 240 DF,  p-value: < 2.2e-16\n"
      ]
     },
     "metadata": {},
     "output_type": "display_data"
    }
   ],
   "source": [
    "library('MASS')\n",
    "X <- data[,4:17] \n",
    "Y <- data$BODYFAT\n",
    "biggest <- formula(lm(Y~.,X))\n",
    "min_model <- lm(Y~1,data = X)\n",
    "forward_model <- step(min_model,direction = 'forward',scope = biggest)\n",
    "summary(forward_model)"
   ]
  },
  {
   "cell_type": "markdown",
   "metadata": {},
   "source": [
    "For backward regerssion"
   ]
  },
  {
   "cell_type": "code",
   "execution_count": 12,
   "metadata": {},
   "outputs": [
    {
     "name": "stdout",
     "output_type": "stream",
     "text": [
      "Start:  AIC=695.84\n",
      "Y ~ AGE + WEIGHT + HEIGHT + ADIPOSITY + NECK + CHEST + ABDOMEN + \n",
      "    HIP + THIGH + KNEE + ANKLE + BICEPS + FOREARM + WRIST\n",
      "\n",
      "            Df Sum of Sq    RSS    AIC\n",
      "- ANKLE      1      1.07 3611.2 693.91\n",
      "- KNEE       1      2.11 3612.2 693.98\n",
      "- BICEPS     1      5.65 3615.8 694.23\n",
      "- FOREARM    1     22.23 3632.3 695.36\n",
      "- HIP        1     23.06 3633.2 695.42\n",
      "- HEIGHT     1     26.26 3636.4 695.64\n",
      "- CHEST      1     26.98 3637.1 695.69\n",
      "<none>                   3610.1 695.84\n",
      "- WEIGHT     1     38.32 3648.4 696.47\n",
      "- THIGH      1     39.87 3650.0 696.57\n",
      "- ADIPOSITY  1     47.73 3657.8 697.11\n",
      "- NECK       1     56.75 3666.9 697.72\n",
      "- AGE        1     74.42 3684.5 698.92\n",
      "- WRIST      1     95.56 3705.7 700.34\n",
      "- ABDOMEN    1   1353.80 4963.9 773.13\n",
      "\n",
      "Step:  AIC=693.91\n",
      "Y ~ AGE + WEIGHT + HEIGHT + ADIPOSITY + NECK + CHEST + ABDOMEN + \n",
      "    HIP + THIGH + KNEE + BICEPS + FOREARM + WRIST\n",
      "\n",
      "            Df Sum of Sq    RSS    AIC\n",
      "- KNEE       1      3.48 3614.7 692.15\n",
      "- BICEPS     1      6.45 3617.6 692.35\n",
      "- FOREARM    1     21.57 3632.7 693.39\n",
      "- HIP        1     22.09 3633.3 693.43\n",
      "- HEIGHT     1     26.04 3637.2 693.70\n",
      "- CHEST      1     26.47 3637.6 693.73\n",
      "<none>                   3611.2 693.91\n",
      "- THIGH      1     39.05 3650.2 694.59\n",
      "- WEIGHT     1     39.31 3650.5 694.61\n",
      "- ADIPOSITY  1     47.16 3658.3 695.14\n",
      "- NECK       1     55.71 3666.9 695.72\n",
      "- AGE        1     80.13 3691.3 697.37\n",
      "- WRIST      1    114.30 3725.5 699.67\n",
      "- ABDOMEN    1   1383.84 4995.0 772.69\n",
      "\n",
      "Step:  AIC=692.15\n",
      "Y ~ AGE + WEIGHT + HEIGHT + ADIPOSITY + NECK + CHEST + ABDOMEN + \n",
      "    HIP + THIGH + BICEPS + FOREARM + WRIST\n",
      "\n",
      "            Df Sum of Sq    RSS    AIC\n",
      "- BICEPS     1      7.52 3622.2 690.67\n",
      "- FOREARM    1     20.72 3635.4 691.57\n",
      "- HEIGHT     1     24.43 3639.1 691.83\n",
      "- HIP        1     25.06 3639.7 691.87\n",
      "- CHEST      1     25.16 3639.8 691.88\n",
      "<none>                   3614.7 692.15\n",
      "- THIGH      1     35.73 3650.4 692.60\n",
      "- WEIGHT     1     39.98 3654.6 692.89\n",
      "- ADIPOSITY  1     45.49 3660.1 693.26\n",
      "- NECK       1     53.17 3667.8 693.79\n",
      "- AGE        1     76.66 3691.3 695.37\n",
      "- WRIST      1    122.30 3737.0 698.44\n",
      "- ABDOMEN    1   1396.63 5011.3 771.50\n",
      "\n",
      "Step:  AIC=690.67\n",
      "Y ~ AGE + WEIGHT + HEIGHT + ADIPOSITY + NECK + CHEST + ABDOMEN + \n",
      "    HIP + THIGH + FOREARM + WRIST\n",
      "\n",
      "            Df Sum of Sq    RSS    AIC\n",
      "- HEIGHT     1     24.10 3646.3 690.32\n",
      "- CHEST      1     24.13 3646.3 690.32\n",
      "- HIP        1     27.22 3649.4 690.53\n",
      "<none>                   3622.2 690.67\n",
      "- FOREARM    1     30.57 3652.7 690.76\n",
      "- WEIGHT     1     38.00 3660.2 691.27\n",
      "- THIGH      1     44.97 3667.1 691.74\n",
      "- ADIPOSITY  1     46.66 3668.8 691.85\n",
      "- NECK       1     50.42 3672.6 692.11\n",
      "- AGE        1     79.53 3701.7 694.07\n",
      "- WRIST      1    120.63 3742.8 696.82\n",
      "- ABDOMEN    1   1396.84 5019.0 769.88\n",
      "\n",
      "Step:  AIC=690.32\n",
      "Y ~ AGE + WEIGHT + ADIPOSITY + NECK + CHEST + ABDOMEN + HIP + \n",
      "    THIGH + FOREARM + WRIST\n",
      "\n",
      "            Df Sum of Sq    RSS    AIC\n",
      "- WEIGHT     1     21.48 3667.7 689.78\n",
      "- CHEST      1     22.52 3668.8 689.85\n",
      "- HIP        1     23.69 3670.0 689.93\n",
      "<none>                   3646.3 690.32\n",
      "- FOREARM    1     32.92 3679.2 690.56\n",
      "- THIGH      1     38.74 3685.0 690.95\n",
      "- ADIPOSITY  1     54.80 3701.1 692.03\n",
      "- NECK       1     57.57 3703.8 692.22\n",
      "- AGE        1     80.31 3726.6 693.74\n",
      "- WRIST      1    130.15 3776.4 697.05\n",
      "- ABDOMEN    1   1396.36 5042.6 769.05\n",
      "\n",
      "Step:  AIC=689.78\n",
      "Y ~ AGE + ADIPOSITY + NECK + CHEST + ABDOMEN + HIP + THIGH + \n",
      "    FOREARM + WRIST\n",
      "\n",
      "            Df Sum of Sq    RSS    AIC\n",
      "- FOREARM    1     24.87 3692.6 689.46\n",
      "<none>                   3667.7 689.78\n",
      "- THIGH      1     31.34 3699.1 689.90\n",
      "- CHEST      1     57.04 3724.8 691.62\n",
      "- ADIPOSITY  1     73.04 3740.8 692.69\n",
      "- HIP        1     73.06 3740.8 692.69\n",
      "- NECK       1     80.62 3748.4 693.19\n",
      "- AGE        1    114.83 3782.6 695.46\n",
      "- WRIST      1    199.54 3867.3 700.97\n",
      "- ABDOMEN    1   1385.67 5053.4 767.58\n",
      "\n",
      "Step:  AIC=689.46\n",
      "Y ~ AGE + ADIPOSITY + NECK + CHEST + ABDOMEN + HIP + THIGH + \n",
      "    WRIST\n",
      "\n",
      "            Df Sum of Sq    RSS    AIC\n",
      "<none>                   3692.6 689.46\n",
      "- THIGH      1     34.15 3726.8 689.76\n",
      "- CHEST      1     51.34 3744.0 690.90\n",
      "- NECK       1     63.78 3756.4 691.73\n",
      "- HIP        1     70.59 3763.2 692.18\n",
      "- ADIPOSITY  1     87.01 3779.6 693.26\n",
      "- AGE        1    102.10 3794.7 694.25\n",
      "- WRIST      1    181.15 3873.8 699.39\n",
      "- ABDOMEN    1   1360.82 5053.4 765.58\n"
     ]
    },
    {
     "data": {
      "text/plain": [
       "\n",
       "Call:\n",
       "lm(formula = Y ~ AGE + ADIPOSITY + NECK + CHEST + ABDOMEN + HIP + \n",
       "    THIGH + WRIST, data = X)\n",
       "\n",
       "Residuals:\n",
       "    Min      1Q  Median      3Q     Max \n",
       "-9.6903 -2.8165 -0.2842  2.9056  9.8680 \n",
       "\n",
       "Coefficients:\n",
       "            Estimate Std. Error t value Pr(>|t|)    \n",
       "(Intercept)  3.27550    6.98750   0.469 0.639663    \n",
       "AGE          0.07031    0.02729   2.576 0.010593 *  \n",
       "ADIPOSITY    0.57554    0.24202   2.378 0.018189 *  \n",
       "NECK        -0.40417    0.19852  -2.036 0.042855 *  \n",
       "CHEST       -0.16522    0.09045  -1.827 0.068992 .  \n",
       "ABDOMEN      0.75934    0.08074   9.405  < 2e-16 ***\n",
       "HIP         -0.24628    0.11498  -2.142 0.033206 *  \n",
       "THIGH        0.18965    0.12730   1.490 0.137583    \n",
       "WRIST       -1.47906    0.43104  -3.431 0.000707 ***\n",
       "---\n",
       "Signif. codes:  0 '***' 0.001 '**' 0.01 '*' 0.05 '.' 0.1 ' ' 1\n",
       "\n",
       "Residual standard error: 3.922 on 240 degrees of freedom\n",
       "Multiple R-squared:  0.7355,\tAdjusted R-squared:  0.7267 \n",
       "F-statistic: 83.42 on 8 and 240 DF,  p-value: < 2.2e-16\n"
      ]
     },
     "metadata": {},
     "output_type": "display_data"
    }
   ],
   "source": [
    "\n",
    "backward_model <- step(lm(Y~.,data = X),direction = 'backward')\n",
    "summary(backward_model)\n"
   ]
  },
  {
   "cell_type": "markdown",
   "metadata": {},
   "source": [
    "## Compare model"
   ]
  },
  {
   "cell_type": "markdown",
   "metadata": {},
   "source": [
    "For these two stepwise regression above, we can see the results are same: variables ABDOMEN and WRIST are the most significant and the main variable we should select. Then, we consider variable WEIGHT. We can developt two models that one caontains WEIGHT while another one doesn't. Comparing the R- squared value, we can decide add which one variable to model."
   ]
  },
  {
   "cell_type": "code",
   "execution_count": 19,
   "metadata": {},
   "outputs": [
    {
     "data": {
      "text/html": [
       "<table>\n",
       "<thead><tr><th scope=col>Res.Df</th><th scope=col>RSS</th><th scope=col>Df</th><th scope=col>Sum of Sq</th><th scope=col>F</th><th scope=col>Pr(&gt;F)</th></tr></thead>\n",
       "<tbody>\n",
       "\t<tr><td>246         </td><td>4145.072    </td><td>NA          </td><td>     NA     </td><td>      NA    </td><td>          NA</td></tr>\n",
       "\t<tr><td>245         </td><td>3900.996    </td><td> 1          </td><td>244.076     </td><td>15.32907    </td><td>0.0001171222</td></tr>\n",
       "</tbody>\n",
       "</table>\n"
      ],
      "text/latex": [
       "\\begin{tabular}{r|llllll}\n",
       " Res.Df & RSS & Df & Sum of Sq & F & Pr(>F)\\\\\n",
       "\\hline\n",
       "\t 246          & 4145.072     & NA           &      NA      &       NA     &           NA\\\\\n",
       "\t 245          & 3900.996     &  1           & 244.076      & 15.32907     & 0.0001171222\\\\\n",
       "\\end{tabular}\n"
      ],
      "text/markdown": [
       "\n",
       "| Res.Df | RSS | Df | Sum of Sq | F | Pr(>F) |\n",
       "|---|---|---|---|---|---|\n",
       "| 246          | 4145.072     | NA           |      NA      |       NA     |           NA |\n",
       "| 245          | 3900.996     |  1           | 244.076      | 15.32907     | 0.0001171222 |\n",
       "\n"
      ],
      "text/plain": [
       "  Res.Df RSS      Df Sum of Sq F        Pr(>F)      \n",
       "1 246    4145.072 NA      NA         NA           NA\n",
       "2 245    3900.996  1 244.076   15.32907 0.0001171222"
      ]
     },
     "metadata": {},
     "output_type": "display_data"
    }
   ],
   "source": [
    "select_model_1 <- lm(Y ~ X$ABDOMEN + X$WRIST + X$WEIGHT)\n",
    "select_model_2 <- lm(Y ~ X$ABDOMEN + X$WRIST)\n",
    "anova(select_model_2,select_model_1)\n"
   ]
  },
  {
   "cell_type": "markdown",
   "metadata": {},
   "source": [
    "According to the model comparing above, we reject the null hypothese that model 1 is same to model 2. "
   ]
  },
  {
   "cell_type": "code",
   "execution_count": null,
   "metadata": {},
   "outputs": [],
   "source": []
  }
 ],
 "metadata": {
  "kernelspec": {
   "display_name": "R",
   "language": "R",
   "name": "ir"
  },
  "language_info": {
   "codemirror_mode": "r",
   "file_extension": ".r",
   "mimetype": "text/x-r-source",
   "name": "R",
   "pygments_lexer": "r",
   "version": "3.6.1"
  }
 },
 "nbformat": 4,
 "nbformat_minor": 2
}
